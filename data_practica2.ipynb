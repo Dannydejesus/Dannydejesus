{
  "nbformat": 4,
  "nbformat_minor": 0,
  "metadata": {
    "colab": {
      "provenance": [],
      "authorship_tag": "ABX9TyPNBhZ4s/I3g2MQBJCRXXmr",
      "include_colab_link": true
    },
    "kernelspec": {
      "name": "python3",
      "display_name": "Python 3"
    },
    "language_info": {
      "name": "python"
    }
  },
  "cells": [
    {
      "cell_type": "markdown",
      "metadata": {
        "id": "view-in-github",
        "colab_type": "text"
      },
      "source": [
        "<a href=\"https://colab.research.google.com/github/Dannydejesus/Dannydejesus/blob/main/data_practica2.ipynb\" target=\"_parent\"><img src=\"https://colab.research.google.com/assets/colab-badge.svg\" alt=\"Open In Colab\"/></a>"
      ]
    },
    {
      "cell_type": "markdown",
      "source": [
        "Entrenando la programación\n",
        "\n",
        "1 - Escribe un programa que pida a la persona usuaria que proporcione dos números y muestre el número más grande."
      ],
      "metadata": {
        "id": "Uhb-MzpLmxYq"
      }
    },
    {
      "cell_type": "code",
      "source": [
        "num1 = float(input(\"Proporciona el primer número: \"))\n",
        "num2 = float(input(\"Proporciona el segundo número: \"))\n",
        "\n",
        "if num1 > num2:\n",
        "    print(\"El número mayor es: \", num1)\n",
        "elif num2 > num1:\n",
        "    print(\"El número mayor es: \", num2)\n",
        "else:\n",
        "    print(\"Los números son iguales\")"
      ],
      "metadata": {
        "colab": {
          "base_uri": "https://localhost:8080/"
        },
        "id": "jT7SdskmVowG",
        "outputId": "e7b6a184-33a4-465f-bdf4-490f4b1206d9"
      },
      "execution_count": 2,
      "outputs": [
        {
          "output_type": "stream",
          "name": "stdout",
          "text": [
            "Proporciona el primer número: 20\n",
            "Proporciona el segundo número: 20\n",
            "Los números son iguales\n"
          ]
        }
      ]
    },
    {
      "cell_type": "markdown",
      "source": [
        "2 - Escribe un programa que solicite el porcentaje de crecimiento de producción de una empresa e informe si hubo un crecimiento (porcentaje positivo) o una disminución (porcentaje negativo)."
      ],
      "metadata": {
        "id": "c0KJZ93UXFbS"
      }
    },
    {
      "cell_type": "code",
      "source": [
        "variacion = float(input(\"Proporciona el porcentaje de crecimiento de la producción: \"))\n",
        "\n",
        "if variacion > 0:\n",
        "    print(\"Hubo un crecimiento de: \", variacion, \"%\")\n",
        "elif variacion < 0:\n",
        "    print(\"Hubo una disminución de: \", variacion, \"%\")\n",
        "else:\n",
        "    print(\"No hubo variación\")\n"
      ],
      "metadata": {
        "colab": {
          "base_uri": "https://localhost:8080/"
        },
        "id": "Mxy0T45bXIVq",
        "outputId": "d7146f76-9437-4593-a43f-ea87d948743b"
      },
      "execution_count": 3,
      "outputs": [
        {
          "output_type": "stream",
          "name": "stdout",
          "text": [
            "Proporciona el porcentaje de crecimiento de la producción: 20\n",
            "Hubo un crecimiento de:  20.0 %\n"
          ]
        }
      ]
    },
    {
      "cell_type": "markdown",
      "source": [
        "3 - Escribe un programa que determine si una letra proporcionada por la persona usuaria es una vocal o una consonante."
      ],
      "metadata": {
        "id": "3Y1sf8ssXI3S"
      }
    },
    {
      "cell_type": "code",
      "source": [
        "letra = input(\"Proporciona una letra: \"). lower()\n",
        "\n",
        "vocales = \"aeiou\"\n",
        "\n",
        "if letra in vocales:\n",
        "    print(\"Es una vocal\")\n",
        "else:\n",
        "    print(\"Es una consonante\")\n"
      ],
      "metadata": {
        "colab": {
          "base_uri": "https://localhost:8080/"
        },
        "id": "-to1dqJuXODa",
        "outputId": "1ccffc10-ec30-439c-94ca-2635dcfacc34"
      },
      "execution_count": 4,
      "outputs": [
        {
          "output_type": "stream",
          "name": "stdout",
          "text": [
            "Proporciona una letra: 10\n",
            "Es una consonante\n"
          ]
        }
      ]
    },
    {
      "cell_type": "markdown",
      "source": [
        "4 - Escribe un programa que lea valores promedio de precios de un modelo de automóvil durante 3 años consecutivos y muestre el valor más alto y más bajo entre esos tres años."
      ],
      "metadata": {
        "id": "srKgYKGXXOgK"
      }
    },
    {
      "cell_type": "code",
      "source": [
        "# Recolectamos los precios de los 3 años\n",
        "precios_año1 = float(input(\"Proporciona el primer año: \"))\n",
        "precios_año2 = float(input(\"Proporciona el segundo año: \"))\n",
        "precios_año3 = float(input(\"Proporciona el tercer año: \"))\n",
        "\n",
        "# Determinamos el valor más alto mediante comparaciones\n",
        "mayor = precios_año1\n",
        "\n",
        "if precios_año2 > mayor:\n",
        "    mayor = precios_año2\n",
        "\n",
        "if precios_año3 > mayor:\n",
        "    mayor = precios_año3\n",
        "\n",
        "# Determinamos el valor más bajo mediante comparaciones\n",
        "menor = precios_año1\n",
        "\n",
        "if precios_año2 < menor:\n",
        "    menor = precios_año2\n",
        "\n",
        "if precios_año3 < menor:\n",
        "    menor = precios_año3\n",
        "\n",
        "# Mostramos los resultados\n",
        "print(\"El mayor es: \", mayor)\n",
        "print(\"El menor es: \", menor)\n",
        "\n"
      ],
      "metadata": {
        "colab": {
          "base_uri": "https://localhost:8080/"
        },
        "id": "B5pWsj5mXRe6",
        "outputId": "4f88196c-c6f1-4ccf-d199-5d728c1d49eb"
      },
      "execution_count": 5,
      "outputs": [
        {
          "output_type": "stream",
          "name": "stdout",
          "text": [
            "Proporciona el primer año: 10\n",
            "Proporciona el segundo año: 10\n",
            "Proporciona el tercer año: 10\n",
            "El mayor es:  10.0\n",
            "El menor es:  10.0\n"
          ]
        }
      ]
    },
    {
      "cell_type": "markdown",
      "source": [
        "5 - Escribe un programa que pregunte sobre el precio de tres productos e indique cuál es el producto más barato para comprar."
      ],
      "metadata": {
        "id": "NufX73EVXSBK"
      }
    },
    {
      "cell_type": "code",
      "source": [
        "# Recolectamos el precio de tres productos\n",
        "producto1 = float(input(\"Proporciona el precio del primer producto: \"))\n",
        "producto2 = float(input(\"Proporciona el precio del segundo producto: \"))\n",
        "producto3 = float(input(\"Proporciona el precio del tercer producto: \"))\n",
        "\n",
        "# Usamos el operador lógico `and` para determinar cuál es el precio más bajo entre los 3 productos\n",
        "# ya que esto nos permite hacer una comparación de 3 entradas\n",
        "if producto1 < producto2 and producto1 < producto3:\n",
        "    print(\"El primer producto es el más barato\")\n",
        "elif producto2 < producto1 and producto2 < producto3:\n",
        "    print(\"El segundo producto es el más barato\")\n",
        "else:\n",
        "    print(\"El tercer producto es el más barato\")\n",
        "\n"
      ],
      "metadata": {
        "colab": {
          "base_uri": "https://localhost:8080/"
        },
        "id": "e7txlTHwXUha",
        "outputId": "3dca8fa9-7c92-48d1-d844-7a37ed90883d"
      },
      "execution_count": 6,
      "outputs": [
        {
          "output_type": "stream",
          "name": "stdout",
          "text": [
            "Proporciona el precio del primer producto: 10\n",
            "Proporciona el precio del segundo producto: 10\n",
            "Proporciona el precio del tercer producto: 10\n",
            "El tercer producto es el más barato\n"
          ]
        }
      ]
    },
    {
      "cell_type": "markdown",
      "source": [
        "6 - Escribe un programa que lea tres números y los muestre en orden descendente."
      ],
      "metadata": {
        "id": "hVObefdSXVGD"
      }
    },
    {
      "cell_type": "code",
      "source": [
        "# recolectamos los tres numeros\n",
        "num1 = float(input(\"Proporciona el primer número: \"))\n",
        "num2 = float(input(\"Proporciona el segundo número: \"))\n",
        "num3 = float(input(\"Proporciona el tercer número: \"))\n",
        "\n",
        "#comparacion entre los tres numeros\n",
        "if num1 >= num2 and num1 >= num3:\n",
        "    print(num1)\n",
        "    if num2 >= num3:\n",
        "        print(num2)\n",
        "        print(num3)\n",
        "    else:\n",
        "        print(num3)\n",
        "        print(num2)\n",
        "\n",
        "elif num2 >= num1 and num2 >= num3:\n",
        "    print(num2)\n",
        "    if num1 >= num3:\n",
        "        print(num1)\n",
        "        print(num3)\n",
        "    else:\n",
        "        print(num3)\n",
        "        print(num1)\n",
        "else:\n",
        "    print(num3)\n",
        "    if num1 >= num2:\n",
        "        print(num1)\n",
        "        print(num2)\n",
        "    else:\n",
        "        print(num2)\n",
        "        print(num1)"
      ],
      "metadata": {
        "colab": {
          "base_uri": "https://localhost:8080/"
        },
        "id": "cAZ-EQ-RXW9i",
        "outputId": "420ce2fc-758f-4a9a-b1e9-a6229c44d29a"
      },
      "execution_count": 7,
      "outputs": [
        {
          "output_type": "stream",
          "name": "stdout",
          "text": [
            "Proporciona el primer número: 10\n",
            "Proporciona el segundo número: 10\n",
            "Proporciona el tercer número: 10\n",
            "10.0\n",
            "10.0\n",
            "10.0\n"
          ]
        }
      ]
    },
    {
      "cell_type": "markdown",
      "source": [
        "7 -Escribe un programa que pregunte en qué turno estudia la persona usuaria (\"mañana\", \"tarde\" o \"noche\") y muestre el mensaje \"¡Buenos Días!\", \"¡Buenas Tardes!\", \"¡Buenas Noches!\" o \"Valor Inválido!\", según el caso."
      ],
      "metadata": {
        "id": "4Zwxy62QXXWp"
      }
    },
    {
      "cell_type": "code",
      "source": [
        "# Recolectamos el turno de estudio\n",
        "turno = input(\"¿En qué turno estudias? (mañana, tarde o noche): \")\n",
        "\n",
        "# comparamos las entradas de todas las opciones y mostramos el resultado\n",
        "if turno == \"mañana\":\n",
        "    print(\"¡Buenos días!\")\n",
        "elif turno == \"tarde\":\n",
        "    print(\"¡Buenas tardes!\")\n",
        "elif turno == \"noche\":\n",
        "    print(\"¡Buenas noches!\")\n",
        "else:\n",
        "    print(\"Valor inválido\")"
      ],
      "metadata": {
        "colab": {
          "base_uri": "https://localhost:8080/"
        },
        "id": "bNsvrMskXY8y",
        "outputId": "ece92bb9-9467-42ac-8cc5-4586f19ae839"
      },
      "execution_count": 8,
      "outputs": [
        {
          "output_type": "stream",
          "name": "stdout",
          "text": [
            "¿En qué turno estudias? (mañana, tarde o noche): 10\n",
            "Valor inválido\n"
          ]
        }
      ]
    },
    {
      "cell_type": "markdown",
      "source": [
        "8 - Escribe un programa que solicite un número entero a la persona usuaria y determine si es par o impar. Pista: Puedes usar el operador módulo (%)."
      ],
      "metadata": {
        "id": "KiEO424hXZbC"
      }
    },
    {
      "cell_type": "code",
      "source": [
        "# recolectamos el numero del usuario\n",
        "num_usuario = int(input(\"Proporciona un número: \"))\n",
        "\n",
        "# comparamos si el numero es par o impar\n",
        "if num_usuario % 2 == 0:\n",
        "    print(\"El número es par\")\n",
        "else:\n",
        "    print(\"El número es impar\")"
      ],
      "metadata": {
        "colab": {
          "base_uri": "https://localhost:8080/"
        },
        "id": "r6toWco6XbXC",
        "outputId": "38bda2b4-35a5-4fdc-ad1c-b13c6f68deb9"
      },
      "execution_count": 9,
      "outputs": [
        {
          "output_type": "stream",
          "name": "stdout",
          "text": [
            "Proporciona un número: 10\n",
            "El número es par\n"
          ]
        }
      ]
    },
    {
      "cell_type": "markdown",
      "source": [
        "9 - Escribe un programa que pida un número a la persona usuaria y le informe si es entero o decimal."
      ],
      "metadata": {
        "id": "6_33q_DpXbyS"
      }
    },
    {
      "cell_type": "code",
      "source": [
        "# recolectamos los datos\n",
        "num = float(input(\"Proporciona un número: \"))\n",
        "\n",
        "# comparamos si el numero es entero o decimal\n",
        "if num % 1 == 0:\n",
        "  print(\"El número es entero\")\n",
        "else:\n",
        "  print(\"El número es decimal\")"
      ],
      "metadata": {
        "colab": {
          "base_uri": "https://localhost:8080/"
        },
        "id": "FF1dKrixXeky",
        "outputId": "b5927ebf-5ecd-4494-99fa-b64f96f05e3b"
      },
      "execution_count": 10,
      "outputs": [
        {
          "output_type": "stream",
          "name": "stdout",
          "text": [
            "Proporciona un número: 10\n",
            "El número es entero\n"
          ]
        }
      ]
    },
    {
      "cell_type": "markdown",
      "source": [
        "Momento de los proyectos\n",
        "\n",
        "10 - Un programa debe ser escrito para leer dos números y luego preguntar a la persona usuaria qué operación desea realizar. El resultado de la operación debe incluir información sobre el número, si es par o impar, positivo o negativo, e entero o decimal."
      ],
      "metadata": {
        "id": "QJYildB1oJKG"
      }
    },
    {
      "cell_type": "code",
      "source": [
        "# Recolectamos los números a operar y solicitamos la operación deseada por el usuario\n",
        "num1 = float(input(\"Proporciona el primer número: \"))\n",
        "num2 = float(input(\"Proporciona el segundo número: \"))\n",
        "operacion = input(\"¿Qué operación deseas realizar? (+, -, *, /): \")\n",
        "\n",
        "# Verificamos la operación seleccionada y realizamos la operación matemática según la elección\n",
        "if operacion == \"+\":\n",
        "    resultado = num1 + num2\n",
        "elif operacion == \"-\":\n",
        "    resultado = num1 - num2\n",
        "elif operacion == \"*\":\n",
        "    resultado = num1 * num2\n",
        "elif operacion == \"/\":\n",
        "    resultado = num1 / num2\n",
        "else:# Especificamos un resultado en caso de que el usuario no ingrese una de las operaciones correctamente.\n",
        "    print('Operación no válida, el resultado de la operación será 0')\n",
        "    resultado = 0\n",
        "\n",
        "# Realizamos las mismas verificaciones que en preguntas anteriores para generar el informe del cálculo entre números\n",
        "if resultado % 1 == 0:\n",
        "    print(\"El resultado es entero\")\n",
        "else:\n",
        "    print(\"El resultado es decimal\")\n",
        "\n",
        "if resultado > 0:\n",
        "    print(\"El resultado es positivo\")\n",
        "elif resultado < 0:\n",
        "    print(\"El resultado es negativo\")\n",
        "else:\n",
        "    print(\"El resultado es 0\")\n",
        "\n",
        "if resultado % 2 == 0:\n",
        "    print(\"El resultado es par\")\n",
        "else:\n",
        "    print(\"El resultado es impar\")\n"
      ],
      "metadata": {
        "colab": {
          "base_uri": "https://localhost:8080/"
        },
        "id": "RgUIhVYKoKBO",
        "outputId": "f3fd677d-9b3d-4004-9ff5-964e063d1986"
      },
      "execution_count": 11,
      "outputs": [
        {
          "output_type": "stream",
          "name": "stdout",
          "text": [
            "Proporciona el primer número: 10\n",
            "Proporciona el segundo número: 10\n",
            "¿Qué operación deseas realizar? (+, -, *, /): 10\n",
            "Operación no válida, el resultado de la operación será 0\n",
            "El resultado es entero\n",
            "El resultado es 0\n",
            "El resultado es par\n"
          ]
        }
      ]
    },
    {
      "cell_type": "markdown",
      "source": [
        "11 - Escribe un programa que pida a la persona usuaria tres números que representan los lados de un triángulo. El programa debe informar si los valores pueden utilizarse para formar un triángulo y, en caso afirmativo, si es equilátero, isósceles o escaleno. Ten en cuenta algunas sugerencias:\n",
        "\n",
        "Tres lados forman un triángulo cuando la suma de cualesquiera dos lados es mayor que el tercero;\n",
        "Triángulo Equilátero: tres lados iguales;\n",
        "Triángulo Isósceles: dos lados iguales;\n",
        "Triángulo Escaleno: tres lados diferentes."
      ],
      "metadata": {
        "id": "umjrlRkQoOKW"
      }
    },
    {
      "cell_type": "code",
      "source": [
        "# Recolectamos los lados de un triángulo\n",
        "print('Estamos recopilando los lados de un triángulo.')\n",
        "lado1 = float(input(\"Proporciona el primer lado del triángulo: \"))\n",
        "lado2 = float(input(\"Proporciona el segundo lado del triángulo: \"))\n",
        "lado3 = float(input(\"Proporciona el tercer lado del triángulo: \"))\n",
        "\n",
        "\n",
        "# Verificamos si los lados pueden formar un triángulo\n",
        "if lado1 + lado2 > lado3 and lado1 + lado3 > lado2 and lado2 + lado3 > lado1:\n",
        "    print(\"Los lados pueden formar un triángulo\")\n",
        "    # Comparamos los lados para determinar el tipo de triángulo\n",
        "    if (lado1 == lado2) and (lado2 == lado3):\n",
        "        print('El triángulo es equilátero.')\n",
        "    elif (lado1 == lado2) or (lado2 == lado3) or (lado1 == lado3):\n",
        "        print('El triángulo es escaleno.')\n",
        "    else:\n",
        "        print('El triángulo es isosceles.')\n",
        "\n",
        "else:\n",
        "    print(\"Los lados no pueden formar un triángulo\")\n",
        "\n"
      ],
      "metadata": {
        "colab": {
          "base_uri": "https://localhost:8080/"
        },
        "id": "c8iz3qD7om6F",
        "outputId": "3b11ee80-c750-467e-a0f3-43a32f0ae674"
      },
      "execution_count": 12,
      "outputs": [
        {
          "output_type": "stream",
          "name": "stdout",
          "text": [
            "Estamos recopilando los lados de un triángulo.\n",
            "Proporciona el primer lado del triángulo: 10\n",
            "Proporciona el segundo lado del triángulo: 10\n",
            "Proporciona el tercer lado del triángulo: 10\n",
            "Los lados pueden formar un triángulo\n",
            "El triángulo es equilátero.\n"
          ]
        }
      ]
    },
    {
      "cell_type": "markdown",
      "source": [
        "12 - Un establecimiento está vendiendo combustibles con descuentos variables. Para el etanol, si la cantidad comprada es de hasta 15 litros, el descuento será del 2% por litro. En caso contrario, será del 4% por litro. Para el diésel, si la cantidad comprada es de hasta 15 litros, el descuento será del 3% por litro. En caso contrario, será del 5% por litro. El precio por litro de diésel es de R$ 2,00 y el precio por litro de etanol es de R$ 1,70. Escribe un programa que lea la cantidad de litros vendidos y el tipo de combustible (E para etanol y D para diésel) y calcule el valor a pagar por el cliente. Ten en cuenta algunas sugerencias:\n",
        "\n",
        "El valor del descuento será el producto del precio por litro, la cantidad de litros y el valor del descuento.\n",
        "El valor a pagar por un cliente será el resultado de la multiplicación del precio por litro por la cantidad de litros menos el valor del descuento resultante del cálculo."
      ],
      "metadata": {
        "id": "TlWPN8x5otVd"
      }
    },
    {
      "cell_type": "code",
      "source": [
        "# Recolectamos la cantidad de litros y el tipo de combustible,\n",
        "# convirtiendo el carácter en mayúsculas para facilitar nuestro análisis\n",
        "cantidad_litros = float(input('Ingrese la cantidad de litros vendidos: '))\n",
        "tipo_combustible = input('Ingrese el tipo de combustible (E para etanol y D para diésel): ').upper()\n",
        "\n",
        "# Verificamos primero el tipo de combustible\n",
        "if tipo_combustible == 'E':\n",
        "  # Establecemos el precio por litro de etanol\n",
        "  precio_litro = 1.70\n",
        "  # Según la cantidad de litros, establecemos el descuento correspondiente\n",
        "  if cantidad_litros <= 15:\n",
        "    descuento = 0.02\n",
        "  else:\n",
        "    descuento = 0.04\n",
        "elif tipo_combustible == 'D':\n",
        "  # Establecemos el precio por litro de diésel\n",
        "  precio_litro = 2.00\n",
        "  # Según la cantidad de litros, establecemos el descuento correspondiente\n",
        "  if cantidad_litros <= 15:\n",
        "    descuento = 0.03\n",
        "  else:\n",
        "    descuento = 0.05\n",
        "# En caso de error en la especificación del tipo de combustible,\n",
        "# consideramos las entradas como no válidas y establecemos los precios y descuentos en 0\n",
        "else:\n",
        "    print('Entradas no válidas!')\n",
        "    precio_litro = 0\n",
        "    descuento = 0\n",
        "\n",
        "# Calculamos el valor del descuento, seguido del cálculo del precio descontado\n",
        "valor_descuento = precio_litro * cantidad_litros * descuento\n",
        "valor_pagado = precio_litro * cantidad_litros - valor_descuento\n",
        "\n",
        "# Resultado\n",
        "print(f'Valor a pagar por el cliente: R$ {valor_pagado}')"
      ],
      "metadata": {
        "colab": {
          "base_uri": "https://localhost:8080/"
        },
        "id": "rM1q9KejIgr_",
        "outputId": "b9fa7989-e9fb-475f-d53a-34af4eae2e4d"
      },
      "execution_count": 13,
      "outputs": [
        {
          "output_type": "stream",
          "name": "stdout",
          "text": [
            "Ingrese la cantidad de litros vendidos: 100\n",
            "Ingrese el tipo de combustible (E para etanol y D para diésel): 100\n",
            "Entradas no válidas!\n",
            "Valor a pagar por el cliente: R$ 0.0\n"
          ]
        }
      ]
    },
    {
      "cell_type": "markdown",
      "source": [
        "13 - En una empresa de venta de bienes raíces, debes crear un código que analice los datos de ventas anuales para ayudar a la dirección en la toma de decisiones. El código debe recopilar los datos de cantidad de ventas durante los años 2022 y 2023 y calcular la variación porcentual. A partir del valor de la variación, se deben proporcionar las siguientes sugerencias:\n",
        "\n",
        "Para una variación superior al 20%: bonificación para el equipo de ventas.\n",
        "Para una variación entre el 2% y el 20%: pequeña bonificación para el equipo de ventas.\n",
        "Para una variación entre el 2% y el -10%: planificación de políticas de incentivo a las ventas.\n",
        "Para bonificaciones inferiores al -10%: recorte de gastos."
      ],
      "metadata": {
        "id": "zbYjNBR0o6g8"
      }
    },
    {
      "cell_type": "code",
      "source": [
        "# Recolectamos las ventas de los dos años\n",
        "ventas_2022 = float(input('Ingrese las ventas del año 2022: '))\n",
        "ventas_2023 = float(input('Ingrese las ventas del año 2023: '))\n",
        "\n",
        "\n",
        "# Calculamos la variación porcentual entre las ventas de los años 2022 y 2023\n",
        "var_porcentual = 100 * (ventas_2023 - ventas_2022)\n",
        "\n",
        "# Análisis condicional de la variación porcentual para determinar la sugerencia a enviar\n",
        "if var_porcentual > 20:\n",
        "    print('Bonificación para el equipo de ventas')\n",
        "elif 2 <= var_porcentual <= 20:\n",
        "  print('Pequeña bonificación para el equipo de ventas')\n",
        "elif -10 <= var_porcentual < 2:\n",
        "  print('Planificación de políticas de incentivo a las ventas')\n",
        "else:\n",
        "  print('Recorte de gastos')\n"
      ],
      "metadata": {
        "colab": {
          "base_uri": "https://localhost:8080/"
        },
        "id": "NroInWAmo97M",
        "outputId": "2f6b1787-8a80-4cf9-9565-342937ae671c"
      },
      "execution_count": 14,
      "outputs": [
        {
          "output_type": "stream",
          "name": "stdout",
          "text": [
            "Ingrese las ventas del año 2022: 100\n",
            "Ingrese las ventas del año 2023: 100\n",
            "Planificación de políticas de incentivo a las ventas\n"
          ]
        }
      ]
    },
    {
      "cell_type": "markdown",
      "source": [
        "Vamos practicar el uso de estructuras de repetición como el \"while\" y el \"for\" a partir de algunas actividades. Ahora que estamos avanzando en el contenido, podemos hacer los desafíos más interesantes. ¡Para ello, trabajaremos en proyectos de código!"
      ],
      "metadata": {
        "id": "JjY4yOKrW7RN"
      }
    },
    {
      "cell_type": "markdown",
      "source": [
        "Entrenando la programación\n",
        "\n",
        "1 - Escribe un programa que solicite dos números enteros e imprima todos los números enteros entre ellos."
      ],
      "metadata": {
        "id": "kCtwil7hXBJk"
      }
    },
    {
      "cell_type": "code",
      "source": [],
      "metadata": {
        "id": "4id6xMUkXDoN"
      },
      "execution_count": 14,
      "outputs": []
    },
    {
      "cell_type": "markdown",
      "source": [
        "2 - Escribe un programa para calcular cuántos días tomará que la colonia de una bacteria A supere o iguale a la colonia de una bacteria B, basado en tasas de crecimiento del 3% y 1.5%, respectivamente. Supón que la colonia A comienza con 4 elementos y B con 10."
      ],
      "metadata": {
        "id": "C028sgMbXFXc"
      }
    },
    {
      "cell_type": "code",
      "source": [],
      "metadata": {
        "id": "7hkUiVlLXMGF"
      },
      "execution_count": 14,
      "outputs": []
    },
    {
      "cell_type": "markdown",
      "source": [
        "3 - Para procesar una cantidad de 15 datos de evaluaciones de usuarios de un servicio de la empresa, necesitamos verificar si las calificaciones son válidas. Por lo tanto, escribe un programa que recibirá calificaciones del 0 al 5 y verificará si son valores válidos. Si se ingresa una calificación superior a 5 o inferior a 0, se repetirá hasta que el usuario ingrese un valor válido."
      ],
      "metadata": {
        "id": "jVVl1eB_XNGz"
      }
    },
    {
      "cell_type": "code",
      "source": [],
      "metadata": {
        "id": "_SfCxOxYXSI8"
      },
      "execution_count": 14,
      "outputs": []
    },
    {
      "cell_type": "markdown",
      "source": [
        "4 - Desarrolla un programa que lea un conjunto indefinido de temperaturas en grados Celsius y calcule su promedio. La lectura debe detenerse al ingresar el valor -273°C."
      ],
      "metadata": {
        "id": "Ua999gq3XU7L"
      }
    },
    {
      "cell_type": "code",
      "source": [],
      "metadata": {
        "id": "WLSpZZVmXVmU"
      },
      "execution_count": 14,
      "outputs": []
    },
    {
      "cell_type": "markdown",
      "source": [
        "5 - Escribe un programa que calcule el factorial de un número entero proporcionado por el usuario. Recuerda que el factorial de un número entero es el producto de ese número por todos sus antecesores hasta llegar al número 1. Por ejemplo, el factorial de 5 es 5 x 4 x 3 x 2 x 1 = 120."
      ],
      "metadata": {
        "id": "egAko_F7XWR0"
      }
    },
    {
      "cell_type": "code",
      "source": [],
      "metadata": {
        "id": "OrAxTfn5XYdM"
      },
      "execution_count": 14,
      "outputs": []
    },
    {
      "cell_type": "markdown",
      "source": [
        "5 - Escribe un programa que calcule el factorial de un número entero proporcionado por el usuario. Recuerda que el factorial de un número entero es el producto de ese número por todos sus antecesores hasta llegar al número 1. Por ejemplo, el factorial de 5 es 5 x 4 x 3 x 2 x 1 = 120.\\n Tabla de multiplicar del 2:\n",
        "2 x 1 = 2\n",
        "2 x 2 = 4\n",
        "[...]\n",
        "2 x 10 = 20"
      ],
      "metadata": {
        "id": "TiBhwztXXdZr"
      }
    },
    {
      "cell_type": "markdown",
      "source": [],
      "metadata": {
        "id": "wPUuMKVCY4GC"
      }
    },
    {
      "cell_type": "code",
      "source": [],
      "metadata": {
        "id": "r4h9oFybYxZC"
      },
      "execution_count": null,
      "outputs": []
    }
  ]
}